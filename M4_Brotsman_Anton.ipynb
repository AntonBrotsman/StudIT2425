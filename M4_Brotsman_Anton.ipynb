{
 "cells": [
  {
   "cell_type": "markdown",
   "id": "6e8dc655-d687-4190-9799-732f5a494449",
   "metadata": {},
   "source": [
    "### Модуль 4"
   ]
  },
  {
   "cell_type": "markdown",
   "id": "0b1ea263-87c4-4ed2-a485-aa191c108128",
   "metadata": {},
   "source": [
    "#### 1.1 Выбираю задачу 1 из прошлого модуля"
   ]
  },
  {
   "cell_type": "markdown",
   "id": "35e2776d-87c5-4ef3-b62f-5df2fd836754",
   "metadata": {},
   "source": [
    "#### 1.2 Разработка REST API"
   ]
  },
  {
   "cell_type": "markdown",
   "id": "6f9e4ee0-a227-4c44-bd7d-c55ec8642d1e",
   "metadata": {},
   "source": [
    "##### 1.2.1 Реализация загрузки данных на сервер"
   ]
  },
  {
   "cell_type": "code",
   "execution_count": 76,
   "id": "7a20a7b0-337f-4af6-80dd-dea10e7b75e8",
   "metadata": {},
   "outputs": [
    {
     "data": {
      "text/html": [
       "<!-- index.html -->\n",
       "   \n",
       "    <body>\n",
       "   \n",
       "    <form action=\"/upload\" method=\"post\" enctype=\".csv, text/csv\">\n",
       "        <label for=\"file\">Выберите файлы для загрузки:</label>\n",
       "        <input type=\"file\" id=\"file\" name=\"file\" csv>\n",
       "        <input type=\"submit\" value=\"Загрузить\">\n",
       "    </form>\n",
       "   \n",
       "    </body>\n"
      ],
      "text/plain": [
       "<IPython.core.display.HTML object>"
      ]
     },
     "metadata": {},
     "output_type": "display_data"
    }
   ],
   "source": [
    "%%html\n",
    "<!-- index.html -->\n",
    "   \n",
    "    <body>\n",
    "   \n",
    "    <form action=\"/upload\" method=\"post\" enctype=\".csv, text/csv\">\n",
    "        <label for=\"file\">Выберите файлы для загрузки:</label>\n",
    "        <input type=\"file\" id=\"file\" name=\"file\" csv>\n",
    "        <input type=\"submit\" value=\"Загрузить\">\n",
    "    </form>\n",
    "   \n",
    "    </body>"
   ]
  },
  {
   "cell_type": "code",
   "execution_count": null,
   "id": "cb8637e3-667f-4811-890c-66af016cc517",
   "metadata": {},
   "outputs": [],
   "source": [
    "from flask import Flask, jsonify, request, render_template\n",
    "from waitress import serve\n",
    "import os\n",
    "\n",
    "app = Flask(__name__) \n",
    "\n",
    "if not os.path.exists(r\"C:\\Users\\student.WIN\\Downloads\\files\"): #проверка существует ли папка files\n",
    "    os.makedirs(r\"C:\\Users\\student.WIN\\Downloads\\files\") #создание папки files\n",
    "    os.makedirs(r\"C:\\Users\\student.WIN\\Downloads\\files\\uploads\")\n",
    "else:\n",
    "    if not os.path.exists(r\"C:\\Users\\student.WIN\\Downloads\\files\\uploads\"):\n",
    "        os.makedirs(r\"C:\\Users\\student.WIN\\Downloads\\files\\uploads\")\n",
    "\n",
    "data = { \n",
    "    \"files\":[\n",
    "    ]\n",
    "}\n",
    "\n",
    "UPLOAD_FOLDER = r\"C:\\Users\\student.WIN\\Downloads\\files\\uploads\"\n",
    "app.config['UPLOAD_FOLDER'] = UPLOAD_FOLDER\n",
    "\n",
    "@app.route('/names_of_files', methods=['GET']) \n",
    "def get_names(): \n",
    "    return jsonify(data[\"files\"])\n",
    "\n",
    "@app.route('/upload', methods=['POST']) #загрузка файлов\n",
    "def upload_file(): \n",
    "    if request.method == 'POST':\n",
    "            uploaded_files = request.files.getlist(\"file\")\n",
    "            for uploaded_file in uploaded_files:\n",
    "                filename = uploaded_file.filename\n",
    "                data[\"files\"].append(filename)\n",
    "                file_path = os.path.join(app.config['UPLOAD_FOLDER'], filename)\n",
    "                uploaded_file.save(file_path)\n",
    "            return \"Файлы успешно загружены в папку 'uploads'!\"\n",
    "\n",
    "if __name__ == '__main__': \n",
    "    serve(app, host=\"0.0.0.0\", port=8086)"
   ]
  }
 ],
 "metadata": {
  "kernelspec": {
   "display_name": "Python 3 (ipykernel)",
   "language": "python",
   "name": "python3"
  },
  "language_info": {
   "codemirror_mode": {
    "name": "ipython",
    "version": 3
   },
   "file_extension": ".py",
   "mimetype": "text/x-python",
   "name": "python",
   "nbconvert_exporter": "python",
   "pygments_lexer": "ipython3",
   "version": "3.12.7"
  }
 },
 "nbformat": 4,
 "nbformat_minor": 5
}
