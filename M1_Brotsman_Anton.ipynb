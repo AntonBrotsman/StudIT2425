{
 "cells": [
  {
   "cell_type": "markdown",
   "id": "34d2238f-098c-4923-b84a-96eb2e0eed21",
   "metadata": {},
   "source": [
    "Модуль1"
   ]
  },
  {
   "cell_type": "markdown",
   "id": "3d858c7d-fe5c-423a-ac35-3e5ce0c561de",
   "metadata": {},
   "source": [
    "Подключаем необходимые библиотеки"
   ]
  },
  {
   "cell_type": "code",
   "execution_count": 139,
   "id": "434bd696-0e76-44d8-bce0-a5a0c5318aed",
   "metadata": {},
   "outputs": [],
   "source": [
    "import numpy as np\n",
    "import csv\n",
    "import pandas\n",
    "import PIL"
   ]
  },
  {
   "cell_type": "markdown",
   "id": "25094416-bb19-44bf-8c09-710634abd1dc",
   "metadata": {},
   "source": [
    "1. Загружаем файл Life_expectancy_dataset.csv b "
   ]
  },
  {
   "cell_type": "code",
   "execution_count": 140,
   "id": "b24a8f8b-c8fb-4d81-abfe-1832bd9fc4cc",
   "metadata": {},
   "outputs": [],
   "source": [
    "LED = open(r'C:\\Users\\student.WIN\\Downloads\\Telegram Desktop\\Stud-IT_module_1\\training_datasets\\Life_expectancy_dataset.csv', 'r', newline='')\n",
    "cvstable = csv.reader(LED, delimiter=' ', quotechar='|')\n"
   ]
  },
  {
   "cell_type": "markdown",
   "id": "27b74e47-baad-4b37-a5d9-35b1e31fc6f7",
   "metadata": {},
   "source": [
    "1.1 Рассчитываем среднюю продолжительность жизни на континенте Oceania"
   ]
  },
  {
   "cell_type": "code",
   "execution_count": 141,
   "id": "a49ddf7a-4c6b-474d-b5f3-a3b4b6d405a2",
   "metadata": {},
   "outputs": [
    {
     "name": "stdout",
     "output_type": "stream",
     "text": [
      "74.23\n"
     ]
    }
   ],
   "source": [
    "# Создаём массив ячеек\n",
    "s=\"\"\n",
    "table=[]\n",
    "for row in cvstable:\n",
    "    for column in row:\n",
    "        s=s + \" \" + column\n",
    "    if not ';' in s:\n",
    "        sarr=s.split(sep=',', maxsplit=-1)\n",
    "    if ';' in s:\n",
    "        sarr=s.split(sep=';', maxsplit=-1)\n",
    "    table.append(sarr)\n",
    "    s=\"\"\n",
    "    sarr=[]\n",
    "#В цикле считаем количество строк, содержащих континент Oceania, сумму значений продолжительностей жизни    \n",
    "lifesum=0\n",
    "numofoceania=0\n",
    "for row in table:\n",
    "    if 'Oceania' in row:\n",
    "        numofoceania+=1\n",
    "        i=2\n",
    "        while row[i][0].isdigit()!=True:\n",
    "            i+=1\n",
    "        lifesum+=float(row[i])\n",
    "        i=2\n",
    "#С помощью предыдущий вычислений получаем и выводим среднюю продолжительность жизни\n",
    "alifevalue=lifesum/numofoceania\n",
    "print(alifevalue)\n",
    "#При запуске программа выводит 74.23"
   ]
  },
  {
   "cell_type": "markdown",
   "id": "91a61e05-98f3-4965-95a3-d90c7b2d1de2",
   "metadata": {},
   "source": [
    "1.2 Ищем страны, в названии который присутствуют символы отличные от букв латинского алфавита, точек, запятых, пробелов. Рассчитываем для них разницу между средней продолжительностью жизни мужчик и женщин."
   ]
  },
  {
   "cell_type": "code",
   "execution_count": 142,
   "id": "1bd4f6d2-e1aa-454f-aeec-ab362687419f",
   "metadata": {},
   "outputs": [],
   "source": [
    "#Создаём строковую переменную, содержащую нужный для проверки алфавит\n",
    "alph='ABCDEFGHIJKLMNOPQRSTUVWXYZabcdefghijklmnopqrstuvwxyz., '\n",
    "#Проходим циклом по названиям стран из массива, полученного в предыдущем пункте"
   ]
  },
  {
   "cell_type": "code",
   "execution_count": null,
   "id": "c6cefbeb-ede4-46f9-b196-85ccf7e7555c",
   "metadata": {},
   "outputs": [],
   "source": []
  }
 ],
 "metadata": {
  "kernelspec": {
   "display_name": "Python 3 (ipykernel)",
   "language": "python",
   "name": "python3"
  },
  "language_info": {
   "codemirror_mode": {
    "name": "ipython",
    "version": 3
   },
   "file_extension": ".py",
   "mimetype": "text/x-python",
   "name": "python",
   "nbconvert_exporter": "python",
   "pygments_lexer": "ipython3",
   "version": "3.12.7"
  }
 },
 "nbformat": 4,
 "nbformat_minor": 5
}
