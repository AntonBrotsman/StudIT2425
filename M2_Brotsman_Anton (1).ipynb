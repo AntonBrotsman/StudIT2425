{
 "cells": [
  {
   "cell_type": "markdown",
   "id": "c44077a5-f9c0-4452-ab6c-ecfaa91b238f",
   "metadata": {},
   "source": [
    "Модуль 2"
   ]
  },
  {
   "cell_type": "markdown",
   "id": "df92faa1-cb31-43fa-9bae-31a5f0ebed0b",
   "metadata": {},
   "source": [
    "Подключаем необходимые библиотеки"
   ]
  },
  {
   "cell_type": "code",
   "execution_count": 7,
   "id": "a7b5e4d5-73ba-48dc-8f5d-56076c84eaa1",
   "metadata": {},
   "outputs": [],
   "source": [
    "import numpy as np\n",
    "import pandas as pd\n",
    "import matplotlib as plt\n",
    "import pydub\n",
    "import scipy.io.wavfile\n",
    "import moviepy\n",
    "import cv2\n",
    "import csv\n",
    "import tempfile\n",
    "import os"
   ]
  },
  {
   "cell_type": "markdown",
   "id": "b9214704-4a21-4506-8935-1e32b0537c5e",
   "metadata": {},
   "source": [
    "1. Загружаем файл clock.mp4"
   ]
  },
  {
   "cell_type": "code",
   "execution_count": 8,
   "id": "0ff794ca-057a-4dbb-a7a1-b150470ee29d",
   "metadata": {},
   "outputs": [],
   "source": [
    "vfile = cv2.VideoCapture(r'clock.mp4')"
   ]
  },
  {
   "cell_type": "markdown",
   "id": "d6f2cf8e-f260-44ec-b535-367d181d81b8",
   "metadata": {},
   "source": [
    "Получаем изначальный размер файла"
   ]
  },
  {
   "cell_type": "code",
   "execution_count": null,
   "id": "999592ba-9d73-45da-98fe-4fc7e77ede17",
   "metadata": {},
   "outputs": [],
   "source": [
    "vsize=os.path.getsize(r'clock.mp4')\n",
    "print(vsize)"
   ]
  },
  {
   "cell_type": "markdown",
   "id": "9c5e2720-a70b-4de9-9efa-59a14d68b41e",
   "metadata": {},
   "source": [
    "2. Загружаем файл audio.wav"
   ]
  },
  {
   "cell_type": "code",
   "execution_count": null,
   "id": "2d1b963a-2c4d-478b-95ad-1761a2358b17",
   "metadata": {},
   "outputs": [],
   "source": [
    "aud = pydub.AudioSegment.from_file(r'audio.wav', format='wav')\n",
    "mk = tempfile.mktemp('temp.wav') \n",
    "aud.export(mk, format=\"wav\") \n",
    "FS = scipy.io.wavfile.read(mk)\n",
    "data = scipy.io.wavfile.read(mk)\n",
    "#plt.pyplot.specgram(data, NFFT=1, Fs=FS, noverlap=0) \n",
    "#plt.show()"
   ]
  },
  {
   "cell_type": "markdown",
   "id": "302ec6b1-2d7d-4796-91c7-a8a046147a43",
   "metadata": {},
   "source": [
    "3. Загружаем файл higgs.csv"
   ]
  },
  {
   "cell_type": "code",
   "execution_count": null,
   "id": "7218e82d-3187-4946-9b2b-ceec442f41ec",
   "metadata": {},
   "outputs": [],
   "source": [
    "higgs = open(r'higgs.csv', 'r', newline='')\n",
    "cvstable = csv.reader(higgs, delimiter=' ', quotechar='|')"
   ]
  }
 ],
 "metadata": {
  "kernelspec": {
   "display_name": "Python 3 (ipykernel)",
   "language": "python",
   "name": "python3"
  },
  "language_info": {
   "codemirror_mode": {
    "name": "ipython",
    "version": 3
   },
   "file_extension": ".py",
   "mimetype": "text/x-python",
   "name": "python",
   "nbconvert_exporter": "python",
   "pygments_lexer": "ipython3",
   "version": "3.12.7"
  }
 },
 "nbformat": 4,
 "nbformat_minor": 5
}
